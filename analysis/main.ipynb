{
 "cells": [
  {
   "cell_type": "markdown",
   "metadata": {},
   "source": [
    "After creating the ability to find the correlation between two stocks we want to explore and find what stocks are mostly correlated in the S&P 500."
   ]
  },
  {
   "cell_type": "markdown",
   "metadata": {},
   "source": [
    "Upon doing this we create room for ourselves to implement a trading strategy called \"pairs trading\" where we get to short the stock going up in price and long the stock that's steady in the set of correlated stocks."
   ]
  },
  {
   "cell_type": "markdown",
   "metadata": {},
   "source": [
    "##### Imports"
   ]
  },
  {
   "cell_type": "code",
   "execution_count": 65,
   "metadata": {},
   "outputs": [],
   "source": [
    "import yfinance\n",
    "import numpy as np\n",
    "import pandas as pd\n",
    "import pandas_datareader.data as web"
   ]
  },
  {
   "cell_type": "code",
   "execution_count": null,
   "metadata": {},
   "outputs": [],
   "source": []
  },
  {
   "cell_type": "markdown",
   "metadata": {},
   "source": [
    "##### Getting stock data"
   ]
  },
  {
   "cell_type": "code",
   "execution_count": 70,
   "metadata": {},
   "outputs": [
    {
     "name": "stdout",
     "output_type": "stream",
     "text": [
      "                 AAPL       MSFT\n",
      "Date                            \n",
      "2017-11-09  41.661293  79.015144\n",
      "2017-11-10  41.523415  78.808441\n",
      "2017-11-13  41.357010  78.864807\n",
      "2017-11-14  40.731789  78.977570\n",
      "2017-11-15  40.194527  78.363708\n",
      "                 AAPL       MSFT\n",
      "Date                            \n",
      "2017-11-09  41.661297  79.015160\n",
      "2017-11-10  41.523415  78.808426\n",
      "2017-11-13  41.357006  78.864815\n",
      "2017-11-14  40.731781  78.977570\n",
      "2017-11-15  40.194527  78.363739\n"
     ]
    }
   ],
   "source": [
    "def get_stocks_data(stock1, stock2):\n",
    "    stock_data = {ticker: web.get_data_yahoo(ticker) for ticker in [stock1, stock2]}\n",
    "    df = pd.DataFrame({ticker: data['Adj Close'] for ticker, data in stock_data.items()})\n",
    "    return df\n",
    "\n",
    "def get_stock_data(ticker):\n",
    "    stock_data = web.get_data_yahoo(ticker)\n",
    "\n",
    "    df = pd.DataFrame({ticker: stock_data['Adj Close']})\n",
    "    return df\n",
    "\n",
    "print(get_stocks_data('AAPL', 'MSFT').head())\n",
    "print(get_stock_data('AAPL').join(get_stock_data('MSFT'), how='outer').head())"
   ]
  },
  {
   "cell_type": "code",
   "execution_count": 71,
   "metadata": {},
   "outputs": [],
   "source": [
    "def get_a_list_of_sandp_500_tickers():\n",
    "    table=pd.read_html('https://en.wikipedia.org/wiki/List_of_S%26P_500_companies')\n",
    "    df = table[0]\n",
    "    symbols = df['Symbol'].tolist()\n",
    "    return symbols"
   ]
  },
  {
   "cell_type": "markdown",
   "metadata": {},
   "source": [
    "##### Create correlation system"
   ]
  },
  {
   "cell_type": "code",
   "execution_count": 72,
   "metadata": {},
   "outputs": [
    {
     "name": "stdout",
     "output_type": "stream",
     "text": [
      "0.7991325282352403\n",
      "0.7991339545506133\n"
     ]
    }
   ],
   "source": [
    "def get_total_correlation(stock1, stock2):\n",
    "    df = get_stocks_data(stock1, stock2)\n",
    "    df = df.pct_change()\n",
    "    df = df.dropna()\n",
    "    total_corr = df.corr()\n",
    "    return total_corr.iloc[0,1]\n",
    "\n",
    "def get_total_correlation_SDAG(stock1data, stock2data):\n",
    "    df = stock1data.join(stock2data, how='outer')\n",
    "    df = df.pct_change()\n",
    "    df = df.dropna()\n",
    "    total_corr = df.corr()\n",
    "    return total_corr.iloc[0,1]\n",
    "\n",
    "print(get_total_correlation('GOOG', 'MSFT'))\n",
    "print(get_total_correlation_SDAG(get_stock_data('GOOG'), get_stock_data('MSFT')))\n"
   ]
  },
  {
   "cell_type": "markdown",
   "metadata": {},
   "source": [
    "Iterate through each stock in S&P and create a pair with it highest correlated stock"
   ]
  },
  {
   "cell_type": "code",
   "execution_count": 80,
   "metadata": {},
   "outputs": [],
   "source": [
    "list_of_sandp_500_tickers = get_a_list_of_sandp_500_tickers()\n",
    "list_of_pairs = []"
   ]
  },
  {
   "cell_type": "code",
   "execution_count": 81,
   "metadata": {},
   "outputs": [
    {
     "name": "stdout",
     "output_type": "stream",
     "text": [
      "MMM\n",
      "_________________________\n",
      "MMM\n",
      "AOS\n",
      "ABT\n",
      "ABBV\n",
      "ABMD\n",
      "ACN\n",
      "ATVI\n",
      "ADM\n",
      "ADBE\n",
      "ADP\n",
      "AAP\n",
      "AES\n",
      "AFL\n",
      "A\n",
      "APD\n",
      "AKAM\n",
      "ALK\n",
      "ALB\n",
      "ARE\n",
      "ALGN\n",
      "ALLE\n",
      "LNT\n",
      "ALL\n",
      "GOOGL\n",
      "GOOG\n",
      "MO\n",
      "AMZN\n",
      "AMCR\n",
      "AMD\n",
      "AEE\n",
      "AAL\n",
      "AEP\n",
      "AXP\n",
      "AIG\n",
      "AMT\n",
      "AWK\n",
      "AMP\n",
      "ABC\n",
      "AME\n",
      "AMGN\n",
      "APH\n",
      "ADI\n",
      "ANSS\n",
      "AON\n",
      "APA\n",
      "AAPL\n",
      "AMAT\n",
      "APTV\n",
      "ACGL\n",
      "ANET\n",
      "AJG\n",
      "AIZ\n",
      "T\n",
      "ATO\n",
      "ADSK\n",
      "AZO\n",
      "AVB\n",
      "AVY\n",
      "BKR\n",
      "BALL\n",
      "BAC\n",
      "BBWI\n",
      "BAX\n",
      "BDX\n",
      "WRB\n",
      "BRK.B\n",
      "BBY\n",
      "BIO\n",
      "TECH\n",
      "BIIB\n",
      "BLK\n",
      "BK\n",
      "BA\n",
      "BKNG\n",
      "BWA\n",
      "BXP\n",
      "BSX\n",
      "BMY\n",
      "AVGO\n",
      "BR\n",
      "BRO\n",
      "BF.B\n",
      "CHRW\n",
      "CDNS\n",
      "CZR\n",
      "CPT\n",
      "CPB\n",
      "COF\n",
      "CAH\n",
      "KMX\n",
      "CCL\n",
      "CARR\n",
      "CTLT\n",
      "CAT\n",
      "CBOE\n",
      "CBRE\n",
      "CDW\n",
      "CE\n",
      "CNC\n",
      "CNP\n",
      "CDAY\n",
      "CF\n",
      "CRL\n",
      "SCHW\n",
      "CHTR\n",
      "CVX\n",
      "CMG\n",
      "CB\n",
      "CHD\n",
      "CI\n",
      "CINF\n",
      "CTAS\n",
      "CSCO\n",
      "C\n",
      "CFG\n",
      "CLX\n",
      "CME\n",
      "CMS\n",
      "KO\n",
      "CTSH\n",
      "CL\n",
      "CMCSA\n",
      "CMA\n",
      "CAG\n",
      "COP\n",
      "ED\n",
      "STZ\n",
      "CEG\n",
      "COO\n",
      "CPRT\n",
      "GLW\n",
      "CTVA\n",
      "CSGP\n",
      "COST\n",
      "CTRA\n",
      "CCI\n",
      "CSX\n",
      "CMI\n",
      "CVS\n",
      "DHI\n",
      "DHR\n",
      "DRI\n",
      "DVA\n",
      "DE\n",
      "DAL\n",
      "XRAY\n",
      "DVN\n",
      "DXCM\n",
      "FANG\n",
      "DLR\n",
      "DFS\n",
      "DISH\n",
      "DIS\n",
      "DG\n",
      "DLTR\n",
      "D\n",
      "DPZ\n",
      "DOV\n",
      "DOW\n",
      "DTE\n",
      "DUK\n",
      "DD\n",
      "DXC\n",
      "EMN\n",
      "ETN\n",
      "EBAY\n",
      "ECL\n",
      "EIX\n",
      "EW\n",
      "EA\n",
      "ELV\n",
      "LLY\n",
      "EMR\n",
      "ENPH\n",
      "ETR\n",
      "EOG\n",
      "EPAM\n",
      "EQT\n",
      "EFX\n",
      "EQIX\n",
      "EQR\n",
      "ESS\n",
      "EL\n",
      "ETSY\n",
      "RE\n",
      "EVRG\n",
      "ES\n"
     ]
    }
   ],
   "source": [
    "def get_pair_for_stock(ticker1):\n",
    "    if (not ('.' in ticker1)):\n",
    "        stock1data = get_stock_data(ticker1)\n",
    "    else: \n",
    "        max_correlatedd = [ticker1, 'SAMPLE', 0.0]\n",
    "        list_of_pairs.append(max_correlatedd)\n",
    "\n",
    "    max_correlated = [ticker1, 'SAMPLE', 0]\n",
    "    print(ticker1)\n",
    "    print(\"_________________________\")\n",
    "    for ticker2 in list_of_sandp_500_tickers:\n",
    "        print(ticker2)\n",
    "        if ticker1 != ticker2 and (not ('.' in ticker2)):\n",
    "            stock2data = get_stock_data(ticker2)\n",
    "            total_corr = get_total_correlation_SDAG(stock1data, stock2data)\n",
    "            if total_corr > max_correlated[2]:\n",
    "                max_correlated = [ticker1, ticker2, total_corr]\n",
    "        else: \n",
    "            continue\n",
    "    list_of_pairs.append(max_correlated)\n",
    "\n",
    "    return max_correlated\n",
    "\n",
    "for ticker in list_of_sandp_500_tickers:\n",
    "    get_pair_for_stock(ticker)\n",
    "    break\n",
    "            "
   ]
  }
 ],
 "metadata": {
  "kernelspec": {
   "display_name": "Python 3.9.13 64-bit",
   "language": "python",
   "name": "python3"
  },
  "language_info": {
   "codemirror_mode": {
    "name": "ipython",
    "version": 3
   },
   "file_extension": ".py",
   "mimetype": "text/x-python",
   "name": "python",
   "nbconvert_exporter": "python",
   "pygments_lexer": "ipython3",
   "version": "3.9.13"
  },
  "orig_nbformat": 4,
  "vscode": {
   "interpreter": {
    "hash": "b0fa6594d8f4cbf19f97940f81e996739fb7646882a419484c72d19e05852a7e"
   }
  }
 },
 "nbformat": 4,
 "nbformat_minor": 2
}
